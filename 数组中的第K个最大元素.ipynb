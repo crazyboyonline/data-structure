{
  "nbformat": 4,
  "nbformat_minor": 0,
  "metadata": {
    "colab": {
      "name": " 数组中的第K个最大元素.ipynb",
      "provenance": [],
      "authorship_tag": "ABX9TyME4g7JQYuENTvldCP2omSw",
      "include_colab_link": true
    },
    "kernelspec": {
      "name": "python3",
      "display_name": "Python 3"
    },
    "language_info": {
      "name": "python"
    }
  },
  "cells": [
    {
      "cell_type": "markdown",
      "metadata": {
        "id": "view-in-github",
        "colab_type": "text"
      },
      "source": [
        "<a href=\"https://colab.research.google.com/github/crazyboyonline/data-structure/blob/main/%E6%95%B0%E7%BB%84%E4%B8%AD%E7%9A%84%E7%AC%ACK%E4%B8%AA%E6%9C%80%E5%A4%A7%E5%85%83%E7%B4%A0.ipynb\" target=\"_parent\"><img src=\"https://colab.research.google.com/assets/colab-badge.svg\" alt=\"Open In Colab\"/></a>"
      ]
    },
    {
      "cell_type": "markdown",
      "source": [
        "#leetcode 215\n",
        "给定整数数组 nums 和整数 k，请返回数组中第 k 个最大的元素。\n",
        "\n",
        "请注意，你需要找的是数组排序后的第 k 个最大的元素，而不是第 k 个不同的元素。\n",
        "\n",
        " \n",
        "\n",
        "来源：力扣（LeetCode）\n",
        "链接：https://leetcode-cn.com/problems/kth-largest-element-in-an-array\n",
        "著作权归领扣网络所有。商业转载请联系官方授权，非商业转载请注明出处。"
      ],
      "metadata": {
        "id": "k8U9PGLb_A07"
      }
    },
    {
      "cell_type": "code",
      "execution_count": null,
      "metadata": {
        "id": "nQjUwZz5_AEN"
      },
      "outputs": [],
      "source": [
        "class Solution {\n",
        "    public int findKthLargest(int[] nums, int k) {\n",
        "        PriorityQueue<Integer>\n",
        "            pq = new PriorityQueue<>();\n",
        "        for(int e : nums){\n",
        "            pq.offer(e);\n",
        "            if(pq.size() > k){\n",
        "                pq.poll();\n",
        "            }\n",
        "        }\n",
        "        return pq.peek();\n",
        "\n",
        "    }\n",
        "}"
      ]
    }
  ]
}