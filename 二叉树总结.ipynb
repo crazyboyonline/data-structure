{
  "nbformat": 4,
  "nbformat_minor": 0,
  "metadata": {
    "colab": {
      "name": "二叉树总结.ipynb",
      "provenance": [],
      "authorship_tag": "ABX9TyP0w4mP/sBFOYYLJfWLZtqB",
      "include_colab_link": true
    },
    "kernelspec": {
      "name": "python3",
      "display_name": "Python 3"
    },
    "language_info": {
      "name": "python"
    }
  },
  "cells": [
    {
      "cell_type": "markdown",
      "metadata": {
        "id": "view-in-github",
        "colab_type": "text"
      },
      "source": [
        "<a href=\"https://colab.research.google.com/github/crazyboyonline/data-structure/blob/main/%E4%BA%8C%E5%8F%89%E6%A0%91%E6%80%BB%E7%BB%93.ipynb\" target=\"_parent\"><img src=\"https://colab.research.google.com/assets/colab-badge.svg\" alt=\"Open In Colab\"/></a>"
      ]
    },
    {
      "cell_type": "code",
      "execution_count": null,
      "metadata": {
        "id": "sz-FAbXej4lt"
      },
      "outputs": [],
      "source": [
        "#模拟系统函数调用栈\n",
        "stack<TreeNode> stk = new Stack<>();\n",
        "\n",
        "void traverse(TreeNode root){\n",
        "    if(root == null) return;\n",
        "    //函数开始压入调用栈\n",
        "    stk.push(root)\n",
        "    traverse(root.left);\n",
        "    trawverse(root.right);\n",
        "    //函数结束时离开调用栈\n",
        "    stk.pop();\n",
        "}"
      ]
    },
    {
      "cell_type": "markdown",
      "source": [
        "1、拿到一个节点，就一路向左遍历（因为 traverse(root.left) 排在前面），把路上的节点都压到栈里。\n",
        "\n",
        "2、往左走到头之后就开始退栈，看看栈顶节点的右指针，非空的话就重复第 1 步。"
      ],
      "metadata": {
        "id": "yoZ3Jk6rtEYJ"
      }
    },
    {
      "cell_type": "code",
      "source": [
        "#前序入栈，后序出栈\n",
        "private Stack<TreeNode> stk = new Stack<>();\n",
        "\n",
        "public List<Integer> traverse(TreeNode root){\n",
        "    pushLeftBranch(root);\n",
        "\n",
        "    while(!stk.isEmpty()){\n",
        "        TreeNode p = stk.pop;\n",
        "        pushLeftBranch(p.right);\n",
        "    }\n",
        "}\n",
        "\n",
        "//左侧树枝一撸到底，都放到栈中\n",
        "private void pushLeftBranch(TreeNode p){\n",
        "    while(p! = null){\n",
        "        stk.push(p);\n",
        "        p = p.left;\n",
        "    }\n",
        "}\n",
        "\n",
        "\n",
        "\n",
        "\n",
        "\n",
        "\n"
      ],
      "metadata": {
        "id": "DuKQuYCVs7A1"
      },
      "execution_count": null,
      "outputs": []
    },
    {
      "cell_type": "code",
      "source": [
        "private Stack<TreeNode> stk = new Stack<>();\n",
        "\n",
        "public List<Integer> traverse(TreeNode root) {\n",
        "    pushLeftBranch(root);\n",
        "    \n",
        "    while (!stk.isEmpty()) {\n",
        "        TreeNode p = stk.peek();\n",
        "        \n",
        "        if (p 的左子树被遍历完了) {\n",
        "            /*******************/\n",
        "            /** 中序遍历代码位置 **/\n",
        "            /*******************/\n",
        "            // 去遍历 p 的右子树\n",
        "            pushLeftBranch(p.right);\n",
        "        }\n",
        "\n",
        "        if (p 的右子树被遍历完了) {\n",
        "            /*******************/\n",
        "            /** 后序遍历代码位置 **/\n",
        "            /*******************/\n",
        "            // 以 p 为根的树遍历完了，出栈\n",
        "            stk.pop();\n",
        "        }\n",
        "    }\n",
        "}\n",
        "\n",
        "private void pushLeftBranch(TreeNode p) {\n",
        "    while (p != null) {\n",
        "        /*******************/\n",
        "        /** 前序遍历代码位置 **/\n",
        "        /*******************/\n",
        "        stk.push(p);\n",
        "        p = p.left;\n",
        "    }\n",
        "}"
      ],
      "metadata": {
        "id": "_KVBF0Iyu_Ax"
      },
      "execution_count": null,
      "outputs": []
    },
    {
      "cell_type": "markdown",
      "source": [
        "有刚才的铺垫，这段代码应该是不难理解的，关键是如何判断 p 的左右子树到底被遍历过没有呢？\n",
        "其实很简单，我们只需要维护一个 visited 指针，指向「上一次遍历完成的根节点」，就可以判断 p 的左右子树遍历情况了"
      ],
      "metadata": {
        "id": "nnfbhZ7rvHzp"
      }
    },
    {
      "cell_type": "markdown",
      "source": [
        "代码中最有技巧性的是这个 visited 指针，它记录最近一次遍历完的子树根节点（最近一次 pop​ 出栈的节点），我们可以根据对比 p 的左右指针和 visited 是否相同来判断节点 p 的左右子树是否被遍历过，进而分离出前中后序的代码位置。\n",
        "\n",
        "PS：visited 指针初始化指向一个新 new 出来的二叉树节点，相当于一个特殊值，目的是避免和输入二叉树中的节点重复。\n",
        "\n",
        "只需把递归算法中的前中后序位置的代码复制粘贴到上述框架的对应位置，就可以把任意递归的二叉树算法改写成迭代形式了。\n",
        "\n",
        "比如，让你返回二叉树后序遍历的结果，你就可以这样写："
      ],
      "metadata": {
        "id": "b8XczJkgx3G-"
      }
    },
    {
      "cell_type": "code",
      "source": [
        "private Stack<TreeNode> stk = new Stack<>();\n",
        "public List<Integer> postorderTraversal(TreeNode root){\n",
        "    //记录后序遍历的结果\n",
        "    list<Ineger> postorder = new ArrayList<>();\n",
        "    TreeNode visited = new TreeNode(-1);\n",
        "    pushLeftBranch(root);\n",
        "    while(!stk.isEmpty()){\n",
        "        TreeeNode p =stk.peek();\n",
        "\n",
        "        if((p.left == null || p.left == visited)&& p.right!=visited){\n",
        "            pushLeftBranch(p.right);\n",
        "        }\n",
        "\n",
        "        if(p.right == null || p.right == visited){\n",
        "            //后序遍历\n",
        "            postorder.add(p.val);\n",
        "            visited = stk.pop();\n",
        "        }\n",
        "    }\n",
        "\n",
        "    return postorder;\n",
        "\n",
        "private void pushLeftBranch(TreeNode p){\n",
        "    while(p != null){\n",
        "        stk.push(p);\n",
        "        p = p.left;\n",
        "    }\n",
        "}\n"
      ],
      "metadata": {
        "colab": {
          "base_uri": "https://localhost:8080/",
          "height": 135
        },
        "id": "QQmyqZDdvFIt",
        "outputId": "6c3e4c98-ebd9-4d73-def8-b5aaea264cf8"
      },
      "execution_count": 2,
      "outputs": [
        {
          "output_type": "error",
          "ename": "SyntaxError",
          "evalue": "ignored",
          "traceback": [
            "\u001b[0;36m  File \u001b[0;32m\"<ipython-input-2-f77c5cd9bf5f>\"\u001b[0;36m, line \u001b[0;32m1\u001b[0m\n\u001b[0;31m    private Stack<TreeNode> stk = new Stack<>();\u001b[0m\n\u001b[0m                ^\u001b[0m\n\u001b[0;31mSyntaxError\u001b[0m\u001b[0;31m:\u001b[0m invalid syntax\n"
          ]
        }
      ]
    },
    {
      "cell_type": "markdown",
      "source": [
        "当然，任何一个二叉树的算法，如果你想把递归改成迭代，都可以套用这个框架，只要把递归的前中后序位置的代码对应过来就行了。\n",
        "\n",
        "迭代解法到这里就搞定了，不过我还是想强调，除了 BFS 层级遍历之外，二叉树的题目还是用递归的方式来做，因为递归是最符合二叉树结构特点的。\n",
        "\n",
        "说到底，这个迭代解法就是在用栈模拟递归调用，所以对照着递归解法，应该不难理解和记忆"
      ],
      "metadata": {
        "id": "JShb5nvSNh9n"
      }
    },
    {
      "cell_type": "code",
      "source": [
        ""
      ],
      "metadata": {
        "id": "SHFjv1LJMk7O"
      },
      "execution_count": null,
      "outputs": []
    }
  ]
}