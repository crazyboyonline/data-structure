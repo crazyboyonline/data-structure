{
  "nbformat": 4,
  "nbformat_minor": 0,
  "metadata": {
    "colab": {
      "name": "牛客输入输出.ipynb",
      "provenance": [],
      "authorship_tag": "ABX9TyO9+TjHf0Scprls4h9Rr7vO",
      "include_colab_link": true
    },
    "kernelspec": {
      "name": "python3",
      "display_name": "Python 3"
    },
    "language_info": {
      "name": "python"
    }
  },
  "cells": [
    {
      "cell_type": "markdown",
      "metadata": {
        "id": "view-in-github",
        "colab_type": "text"
      },
      "source": [
        "<a href=\"https://colab.research.google.com/github/crazyboyonline/data-structure/blob/main/%E7%89%9B%E5%AE%A2%E8%BE%93%E5%85%A5%E8%BE%93%E5%87%BA.ipynb\" target=\"_parent\"><img src=\"https://colab.research.google.com/assets/colab-badge.svg\" alt=\"Open In Colab\"/></a>"
      ]
    },
    {
      "cell_type": "code",
      "execution_count": null,
      "metadata": {
        "id": "8J17JJ2NPt9f"
      },
      "outputs": [],
      "source": [
        "import java.util.Scanner;\n",
        "\n",
        "public clss Main{\n",
        "    public static void main(String[] args){\n",
        "        Scanner sc =  new Scanner(System.in);\n",
        "        double d = scanner,nextDouble();\n",
        "        System.out.println(Main.typeConversion(d));\n",
        "    }\n",
        "    public static int typeConversion(double d){\n",
        "        //ours code\n",
        "    }\n",
        "}"
      ]
    },
    {
      "cell_type": "code",
      "source": [
        ""
      ],
      "metadata": {
        "id": "xksicDOkQELm"
      },
      "execution_count": null,
      "outputs": []
    }
  ]
}