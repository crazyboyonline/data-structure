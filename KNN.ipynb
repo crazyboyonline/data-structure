{
  "nbformat": 4,
  "nbformat_minor": 0,
  "metadata": {
    "colab": {
      "name": "KNN.ipynb",
      "provenance": [],
      "authorship_tag": "ABX9TyOJqtBQuOMrQkJLsUusmAlz",
      "include_colab_link": true
    },
    "kernelspec": {
      "name": "python3",
      "display_name": "Python 3"
    },
    "language_info": {
      "name": "python"
    }
  },
  "cells": [
    {
      "cell_type": "markdown",
      "metadata": {
        "id": "view-in-github",
        "colab_type": "text"
      },
      "source": [
        "<a href=\"https://colab.research.google.com/github/crazyboyonline/data-structure/blob/main/KNN.ipynb\" target=\"_parent\"><img src=\"https://colab.research.google.com/assets/colab-badge.svg\" alt=\"Open In Colab\"/></a>"
      ]
    },
    {
      "cell_type": "code",
      "execution_count": null,
      "metadata": {
        "id": "TwUprlDG85PC"
      },
      "outputs": [],
      "source": [
        "Xtr ,Ytr,Xte ,Yte= load_CIFAR10('data/cifar10/')\n",
        "#flatten out all image to be one-dimensional\n",
        "Xtr_rows = Xtr.reshape(Xtr.shape[0],32*32*3)\n",
        "Xte_rows = Xte.reshape(Xte.shape[0],32*32*3)"
      ]
    },
    {
      "cell_type": "markdown",
      "source": [
        "现在我们把所有图像拍成行，现在我们可以训练和评估"
      ],
      "metadata": {
        "id": "0VanUvnA_fRf"
      }
    },
    {
      "cell_type": "code",
      "source": [
        "nn = NearestNeighbor()# nn classifier class\n",
        "nn.train(Xtr_rows,Ytr)\n",
        "Ytr_predict = nn.predict(Xte_rows)\n",
        "print ('accuray : %f ' % (np.mean(Ytr_predict == Yte)))"
      ],
      "metadata": {
        "id": "ouirtm6U_bvS"
      },
      "execution_count": null,
      "outputs": []
    },
    {
      "cell_type": "markdown",
      "source": [
        ""
      ],
      "metadata": {
        "id": "7qOzB6kEFdOR"
      }
    },
    {
      "cell_type": "code",
      "source": [
        "import numpy as np \n",
        "\n",
        "class NearestNeighbor(object):\n",
        "  def __init__(self):\n",
        "    pass\n",
        "\n",
        "  def train(self , X,y):\n",
        "    \" \"\" X is N x D where each row is an example. Y is 1-dimension of size N \"\"\"\n",
        "    # the nearest neighbor classifier simply remmembers all the training data\n",
        "    self.Xtr = X\n",
        "    self.Ytr = y\n",
        "\n",
        "  def predict(self,X):\n",
        "    \"\"\" X is N x D where each row is an example we wish to predict label for \"\"\"\n",
        "    num_test = X.shape[0]\n",
        "    #lets make sure that the output type matches the input type\n",
        "    Ypred = np.zeros(num_test, dtype = self.ytr.dtype)\n",
        "\n",
        "    #loop over all test rows\n",
        "    for i in range(num_test):\n",
        "      # find the nearest training image to the i'th test image\n",
        "      # using the L1 distance (sum of absolute value differences)\n",
        "      distances = np.sum(np.abs(self.Xtr - X[i,:]) , axis = 1)\n",
        "      min_index = np.argmin(distances)#get the index with samllest distance\n",
        "      Ypred[i] = self.ytr[min_index]# predict the label of the neaest exple\n",
        "\n",
        "    return Ypred\n"
      ],
      "metadata": {
        "id": "yH9Wz9O_BnG4"
      },
      "execution_count": null,
      "outputs": []
    },
    {
      "cell_type": "markdown",
      "source": [
        "The choice of distance. There are many other ways of computing distances between vectors. Another common choice could be to instead use the L2 distance, which has the geometric interpretation of computing the euclidean distance between two vectors. The distance takes the form:\n"
      ],
      "metadata": {
        "id": "D-wCmdj3GJon"
      }
    },
    {
      "cell_type": "code",
      "source": [
        "#l2distance\n",
        "distances = np.sqrt(np.sum(np.square(self.Xtr - X[i,:]), axis = 1))"
      ],
      "metadata": {
        "id": "LofaM53cGJZu"
      },
      "execution_count": null,
      "outputs": []
    }
  ]
}