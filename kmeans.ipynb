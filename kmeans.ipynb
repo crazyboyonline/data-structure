{
  "nbformat": 4,
  "nbformat_minor": 0,
  "metadata": {
    "colab": {
      "name": "kmeans.ipynb",
      "provenance": [],
      "authorship_tag": "ABX9TyNsME35uowtu0GLRVQbF1Bz",
      "include_colab_link": true
    },
    "kernelspec": {
      "name": "python3",
      "display_name": "Python 3"
    },
    "language_info": {
      "name": "python"
    }
  },
  "cells": [
    {
      "cell_type": "markdown",
      "metadata": {
        "id": "view-in-github",
        "colab_type": "text"
      },
      "source": [
        "<a href=\"https://colab.research.google.com/github/crazyboyonline/data-structure/blob/main/kmeans.ipynb\" target=\"_parent\"><img src=\"https://colab.research.google.com/assets/colab-badge.svg\" alt=\"Open In Colab\"/></a>"
      ]
    },
    {
      "cell_type": "code",
      "execution_count": 1,
      "metadata": {
        "id": "7X9qN9iGGEoV"
      },
      "outputs": [],
      "source": [
        "from numpy import *\n",
        "import time\n",
        "import matplotlib.pyplot as plt"
      ]
    },
    {
      "cell_type": "code",
      "source": [
        "#欧式距离\n",
        "def euclDistance(vector1,vector2):\n",
        "  return sqrt(sum(power(vector2 - vector1,2)))"
      ],
      "metadata": {
        "id": "jiVrvPr5GKfX"
      },
      "execution_count": 2,
      "outputs": []
    },
    {
      "cell_type": "code",
      "source": [
        "def initCentroids(dataSet,k):\n",
        "  numSamples,dim = dataSet.shape\n",
        "  centroids = zeros((k,dim))\n",
        "  for i in range(k):\n",
        "    index = int(random.uniform(0,numSamples))\n",
        "    centroids[i,:] = dataSet[index,:]\n",
        "  return centroids"
      ],
      "metadata": {
        "id": "3R3-ZB9nHpVY"
      },
      "execution_count": 3,
      "outputs": []
    },
    {
      "cell_type": "code",
      "source": [
        "def kmeans(dataSet, k):\n",
        "  numSamples = dataSet.shape[0]\n",
        "  clusterAssment = mat(zeros((numSamples,2)))\n",
        "  clusterChanged = True\n",
        "\n",
        "  ##step 1: init centroids\n",
        "  centroids = initCentroids(dataSet,k)\n",
        "\n",
        "  while clusterChanged:\n",
        "    clusterChanged = False\n",
        "    #for each sample\n",
        "    for i in xrange(numSamples):\n",
        "      minDist = 100000.0\n",
        "      minIndex = 0\n",
        "      #for each centroid\n",
        "      #step 2: find the centroid who is closest\n",
        "      for j in range(k):\n",
        "        distance = euclDistance(centroids[j,:],dataSet[i,:])\n",
        "        if distance < minDist:\n",
        "          minDist = distance\n",
        "          minIndex = j\n",
        "      \n",
        "      #step 3: update its cluster\n",
        "      if clusterAssment[i,0] != minIndex:\n",
        "        clusterChanged = True\n",
        "        clusterAssment[i,:] = minIndex,minDist**2\n",
        "    #step 4:undate centroids\n",
        "    for j in range(k):\n",
        "      pointsInCluster = dataSet[nonzero(clusterAssment[:,0].A==j)[0]]\n",
        "      centroids[j,:] = mean(pointsInCluster,axis = 0)\n",
        "\n",
        "  print('Congratulations, cluster complete!')\n",
        "  return centroids,clusterAssment\n",
        "\n",
        "\n",
        "\n",
        "\n",
        "\n",
        "\n"
      ],
      "metadata": {
        "id": "8xR9X_kdIest"
      },
      "execution_count": 6,
      "outputs": []
    },
    {
      "cell_type": "code",
      "source": [
        "# show your cluster only available with 2-D data\n",
        "def showCluster(dataSet, k, centroids, clusterAssment):\n",
        "\tnumSamples, dim = dataSet.shape\n",
        "\tif dim != 2:\n",
        "\t\tprint (\"Sorry! I can not draw because the dimension of your data is not 2!\")\n",
        "\t\treturn 1\n",
        " \n",
        "\tmark = ['or', 'ob', 'og', 'ok', '^r', '+r', 'sr', 'dr', '<r', 'pr']\n",
        "\tif k > len(mark):\n",
        "\t\tprint (\"Sorry! Your k is too large! please contact Zouxy\")\n",
        "\t\treturn 1\n",
        " \n",
        "\t# draw all samples\n",
        "\tfor i in xrange(numSamples):\n",
        "\t\tmarkIndex = int(clusterAssment[i, 0])\n",
        "\t\tplt.plot(dataSet[i, 0], dataSet[i, 1], mark[markIndex])\n",
        " \n",
        "\tmark = ['Dr', 'Db', 'Dg', 'Dk', '^b', '+b', 'sb', 'db', '<b', 'pb']\n",
        "\t# draw the centroids\n",
        "\tfor i in range(k):\n",
        "\t\tplt.plot(centroids[i, 0], centroids[i, 1], mark[i], markersize = 12)\n",
        " \n",
        "\tplt.show()"
      ],
      "metadata": {
        "id": "zeEOMUtFJGTp"
      },
      "execution_count": 7,
      "outputs": []
    }
  ]
}