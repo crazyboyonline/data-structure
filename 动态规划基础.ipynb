{
  "nbformat": 4,
  "nbformat_minor": 0,
  "metadata": {
    "colab": {
      "name": "动态规划基础.ipynb",
      "provenance": [],
      "authorship_tag": "ABX9TyNAYDr2IXWZTdejZ7GVvdI+",
      "include_colab_link": true
    },
    "kernelspec": {
      "name": "python3",
      "display_name": "Python 3"
    },
    "language_info": {
      "name": "python"
    }
  },
  "cells": [
    {
      "cell_type": "markdown",
      "metadata": {
        "id": "view-in-github",
        "colab_type": "text"
      },
      "source": [
        "<a href=\"https://colab.research.google.com/github/crazyboyonline/data-structure/blob/main/%E5%8A%A8%E6%80%81%E8%A7%84%E5%88%92%E5%9F%BA%E7%A1%80.ipynb\" target=\"_parent\"><img src=\"https://colab.research.google.com/assets/colab-badge.svg\" alt=\"Open In Colab\"/></a>"
      ]
    },
    {
      "cell_type": "markdown",
      "source": [
        "#动态规划应用于子问题重叠的情况：\n",
        "1. 要去刻画最优解的结构特征；\n",
        "2. 尝试递归地定义最优解的值（就是我们常说的考虑从i-1转移到i）\n",
        "3. 计算最优解；\n",
        "4. 利用计算出的信息构造一个最优解。列表项\n"
      ],
      "metadata": {
        "id": "GKzJeCBye1nw"
      }
    },
    {
      "cell_type": "markdown",
      "source": [
        "#动态规划的两种实现方法：\n",
        "1. 带备忘的自顶向下法（记忆化搜索）；\n",
        "2. 自底向上法（将子问题按规模排序，类似于递推）。\n",
        "\n",
        "算导用子问题图上按照逆拓扑序求解问题，引出记忆化搜索。重构解（输出方案）：转移的时候记录最优子结构的位置。"
      ],
      "metadata": {
        "id": "1TPGRfQmfygj"
      }
    },
    {
      "cell_type": "markdown",
      "source": [
        "#动态规划原理¶\n",
        "#两个要素：\n",
        "\n",
        "最优子结构\n",
        "\n",
        "具有最优子结构也可能是适合用贪心的方法求解。\n",
        "\n",
        "注意要确保我们考察了最优解中用到的所有子问题。\n",
        "\n",
        "1. 证明问题最优解的第一个组成部分是做出一个选择；\n",
        "2. 对于一个给定问题，在其可能的第一步选择中，你界定已经知道哪种选择才会得到最优解。你现在并不关心这种选择具体是如何得到的，只是假定已经知道了这种选择；\n",
        "3. 给定可获得的最优解的选择后，确定这次选择会产生哪些子问题，以及如何最好地刻画子问题空间；\n",
        "4. 证明作为构成原问题最优解的组成部分，每个子问题的解就是它本身的最优解。方法是反证法，考虑加入某个子问题的解不是其自身的最优解，那么就可以从原问题的解中用该子问题的最优解替换掉当前的非最优解，从而得到原问题的一个更优的解，从而与原问题最优解的假设矛盾。\n",
        "5. 要保持子问题空间尽量简单，只在必要时扩展。\n",
        "\n",
        "最优子结构的不同体现在两个方面：\n",
        "\n",
        "原问题的最优解中涉及多少个子问题；\n",
        "确定最优解使用哪些子问题时，需要考察多少种选择。\n",
        "子问题图中每个定点对应一个子问题，而需要考察的选择对应关联至子问题顶点的边"
      ],
      "metadata": {
        "id": "0lNXLqktgPbd"
      }
    },
    {
      "cell_type": "markdown",
      "source": [
        "#最长连续不下降子序列¶\n"
      ],
      "metadata": {
        "id": "hqv021IAhxMk"
      }
    },
    {
      "cell_type": "code",
      "execution_count": null,
      "metadata": {
        "id": "lsytrImtefM1"
      },
      "outputs": [],
      "source": [
        "#最长连续不下降子序列\n",
        "#我们的目标是求出给定序列的一个最长的连续子序列，满足这个序列中的后一个元素 不小于 前一个元素。因为是连续的，所以只要与上一个元素进行比较即可。\n",
        "//C++ Version\n",
        "int a[MAXN]\n",
        "\n",
        "int dp(){\n",
        "    int now =1 ,ans = 1;\n",
        "      for(int i = 2; i<= n; i++){\n",
        "        if(a[i] >= a[i - 1])\n",
        "          now++;\n",
        "        else\n",
        "          now = 1;\n",
        "        ans = max(now,ans); \n",
        "      }\n",
        "      return ans;\n",
        "    }\n",
        "}\n",
        "\n",
        "//Python Version\n",
        "a = [0]*MAXN\n",
        "def dp():\n",
        "  now,ans = 1,1\n",
        "  for i in range(2,n + 1):\n",
        "    if a[i] >= a[i + 1]:\n",
        "      now +=1\n",
        "    else:\n",
        "      now = 1\n",
        "    ans = max(now, ans)\n",
        "  return ans "
      ]
    },
    {
      "cell_type": "markdown",
      "source": [
        "#最长不下降子序列\n",
        "与最长连续不下降子序列不同的是，不需要这个子序列是连续的了。\n",
        "\n",
        "求最长子序列的方法有两种。"
      ],
      "metadata": {
        "id": "iwK7eWmpjYzW"
      }
    },
    {
      "cell_type": "code",
      "source": [
        "// C++ Version\n",
        "int a[MAXN],d[MAXN];\n",
        "\n",
        "int dp(){\n",
        "    d[1] = 1;\n",
        "    int ans = 1;\n",
        "    for(int i = 2; i<=n;i++){\n",
        "      for(int j =1; j < i ; j++)\n",
        "        if(a[j] <= a[i]){\n",
        "            d[i] = max(d[i], d[j] + 1)\n",
        "            ans = max(ans,d[i]);\n",
        "        }\n",
        "    }\n",
        "}"
      ],
      "metadata": {
        "id": "UGKB-ypIjVqO"
      },
      "execution_count": null,
      "outputs": []
    },
    {
      "cell_type": "markdown",
      "source": [
        "现在我们已知最长的不下降子序列长度为 1，那么我们让 i从 2 到n循环，依次求出前i个元素的最长不下降子序列的长度，循环的时候我们只需要维护好d这个数组还有len就可以了。关键在于如何维护\n",
        "考虑进来一个元素 $a_i$：\n",
        "元素大于等于$d_{len}$，直接$d_{++len} = a_i$即可，这个比较好理解。\n",
        "元素小于$d_len$，找到第一个大于它的元素，插入进去，其他小于它的元素不要。"
      ],
      "metadata": {
        "id": "Ee-4R7rjoghM"
      }
    },
    {
      "cell_type": "code",
      "source": [
        "#第二种参考了这篇文章 https://www.cnblogs.com/itlqs/p/5743114.html。\n",
        "for(int i = 0; i< n; ++i) scanf(\"%d, a + i\");\n",
        "memset(dp,0x1f,seizeof dp);\n",
        "mx = dp[0];\n",
        "for(int i = 0; i< n;++i){\n",
        "    *std::upper_bound(dp,dp + n, a[i]) = a[i];\n",
        "}\n",
        "ans = 0;\n",
        "while （dp[ans] != mx) ++ans;"
      ],
      "metadata": {
        "id": "zp8-wli0n7qz"
      },
      "execution_count": null,
      "outputs": []
    },
    {
      "cell_type": "code",
      "source": [
        "#python Version\n",
        "dp = [0x1f1f1f1f] * MAXN\n",
        "mx = dp[0]\n",
        "for i in range（0，n):\n",
        "  bissect.insort_left(dp,a[i], 0, len(dp))\n",
        "\n",
        "ans = 0\n",
        "while （dp[ans] != mx）：\n",
        "  ans += 1"
      ],
      "metadata": {
        "colab": {
          "base_uri": "https://localhost:8080/",
          "height": 138
        },
        "id": "CV5XhHkPrTtp",
        "outputId": "59ffba6a-f906-47f1-b87b-1f2ad8170fa2"
      },
      "execution_count": 1,
      "outputs": [
        {
          "output_type": "error",
          "ename": "SyntaxError",
          "evalue": "ignored",
          "traceback": [
            "\u001b[0;36m  File \u001b[0;32m\"<ipython-input-1-9e370c5eaf60>\"\u001b[0;36m, line \u001b[0;32m4\u001b[0m\n\u001b[0;31m    for i in range（0，n):\u001b[0m\n\u001b[0m                     ^\u001b[0m\n\u001b[0;31mSyntaxError\u001b[0m\u001b[0;31m:\u001b[0m invalid character in identifier\n"
          ]
        }
      ]
    }
  ]
}