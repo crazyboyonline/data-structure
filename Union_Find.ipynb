{
  "nbformat": 4,
  "nbformat_minor": 0,
  "metadata": {
    "colab": {
      "name": "Union-Find.ipynb",
      "provenance": [],
      "authorship_tag": "ABX9TyMSNnDXksGRqvOYIEZGs0/v",
      "include_colab_link": true
    },
    "kernelspec": {
      "name": "python3",
      "display_name": "Python 3"
    },
    "language_info": {
      "name": "python"
    }
  },
  "cells": [
    {
      "cell_type": "markdown",
      "metadata": {
        "id": "view-in-github",
        "colab_type": "text"
      },
      "source": [
        "<a href=\"https://colab.research.google.com/github/crazyboyonline/data-structure/blob/main/Union_Find.ipynb\" target=\"_parent\"><img src=\"https://colab.research.google.com/assets/colab-badge.svg\" alt=\"Open In Colab\"/></a>"
      ]
    },
    {
      "cell_type": "code",
      "execution_count": 2,
      "metadata": {
        "colab": {
          "base_uri": "https://localhost:8080/",
          "height": 135
        },
        "id": "cVhLWU6zpBwu",
        "outputId": "fc0e35d6-0539-48db-c6de-b556eb61ecb4"
      },
      "outputs": [
        {
          "output_type": "error",
          "ename": "SyntaxError",
          "evalue": "ignored",
          "traceback": [
            "\u001b[0;36m  File \u001b[0;32m\"<ipython-input-2-2c209094c460>\"\u001b[0;36m, line \u001b[0;32m2\u001b[0m\n\u001b[0;31m    class UF{\u001b[0m\n\u001b[0m            ^\u001b[0m\n\u001b[0;31mSyntaxError\u001b[0m\u001b[0;31m:\u001b[0m invalid syntax\n"
          ]
        }
      ],
      "source": [
        "#Union-Find算法实现\n",
        "class UF{\n",
        "    //连通分量个数\n",
        "    private int count;\n",
        "    //存储一棵树\n",
        "    private int[] parent;\n",
        "    //记录树的重量\n",
        "    private int[] size;\n",
        "\n",
        "    //n为图中节点的个数\n",
        "    public UF(int n){\n",
        "        this.count = n;\n",
        "        parent = new int[n];\n",
        "        size = new int[n];\n",
        "        for(int i = 0; i < n ; i++){\n",
        "            parent[i] = i;\n",
        "            size[i] = 1;\n",
        "        }\n",
        "    }\n",
        "\n",
        "    public void union(int p, int q){\n",
        "        int rootP = find(p);\n",
        "        int rootQ = find(q);\n",
        "        int(rootP == rootQ)\n",
        "          return;\n",
        "\n",
        "        //小树接到大树下边，较平衡\n",
        "        if(size[rootP] > size[rootQ]){\n",
        "            parent[rootQ] = rootP;\n",
        "            size[rootP] += size[rootQ];\n",
        "        }else{\n",
        "            parent[rootP] = rootQ;\n",
        "            size[rootQ] += size[rootP];\n",
        "        }\n",
        "        //两个连通分量合并成一个连通分量\n",
        "        count--;\n",
        "    }\n",
        "\n",
        "    //判断节点p和节点q是否联通\n",
        "    public boolean connected(int p , int q){\n",
        "        int rootP = find(p);\n",
        "        int rootQ = find(q);\n",
        "        return rootP == rootQ;\n",
        "    }\n",
        "\n",
        "    private int find(int x){\n",
        "        while(parent [x] ! = x){\n",
        "            //进行路径压缩\n",
        "            parent[x] = parent[parent[x]];\n",
        "            x = parent[x];\n",
        "        }\n",
        "        return x;\n",
        "    }\n",
        "\n",
        "    //返回图中的连通分量个数\n",
        "    public int count(){\n",
        "        return count;\n",
        "    }\n",
        "}"
      ]
    },
    {
      "cell_type": "code",
      "source": [
        "#判断两个节点是否连通\n",
        "#判断输入的若干条边是否能够构造出一棵树结构\n",
        "boolean validTree(int n , int[][] edges){\n",
        "    //初始化 0...n-1的共计n个节点\n",
        "    UF uf = new UF(n);\n",
        "    //遍历所有边，将组成的两个节点进行连接\n",
        "    for(int[] edge : edges){\n",
        "        int u = edge[0];\n",
        "        int v = edge[1];\n",
        "        //若两个节点已经在同一连接分量重\n",
        "        if(uf.connected(u,v)){\n",
        "            return false;\n",
        "        }\n",
        "        //这条边不会产生环，可以是树的一部分\n",
        "        uf.union(u,v);\n",
        "    }\n",
        "    //要保证最后只形成一棵树，即只有一个连通分量\n",
        "    return uf.count() == 1;\n",
        "}\n",
        "\n",
        "calss UF{\n",
        "    //上边代码实现\n",
        "}"
      ],
      "metadata": {
        "colab": {
          "base_uri": "https://localhost:8080/",
          "height": 135
        },
        "id": "STuMlHk-rpBs",
        "outputId": "8c0dbb4e-5e92-4d5e-bc38-aabe5b26d457"
      },
      "execution_count": 3,
      "outputs": [
        {
          "output_type": "error",
          "ename": "SyntaxError",
          "evalue": "ignored",
          "traceback": [
            "\u001b[0;36m  File \u001b[0;32m\"<ipython-input-3-b97311e5bf81>\"\u001b[0;36m, line \u001b[0;32m3\u001b[0m\n\u001b[0;31m    boolean validTree(int n , int[][] edges){}\u001b[0m\n\u001b[0m                    ^\u001b[0m\n\u001b[0;31mSyntaxError\u001b[0m\u001b[0;31m:\u001b[0m invalid syntax\n"
          ]
        }
      ]
    },
    {
      "cell_type": "code",
      "source": [
        ""
      ],
      "metadata": {
        "id": "DL6mnfgHwe4t"
      },
      "execution_count": null,
      "outputs": []
    }
  ]
}