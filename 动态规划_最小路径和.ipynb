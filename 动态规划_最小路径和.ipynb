{
  "nbformat": 4,
  "nbformat_minor": 0,
  "metadata": {
    "colab": {
      "name": "动态规划-最小路径和.ipynb",
      "provenance": [],
      "authorship_tag": "ABX9TyPKcFhF67sZwb2T5phhmACA",
      "include_colab_link": true
    },
    "kernelspec": {
      "name": "python3",
      "display_name": "Python 3"
    },
    "language_info": {
      "name": "python"
    }
  },
  "cells": [
    {
      "cell_type": "markdown",
      "metadata": {
        "id": "view-in-github",
        "colab_type": "text"
      },
      "source": [
        "<a href=\"https://colab.research.google.com/github/crazyboyonline/data-structure/blob/main/%E5%8A%A8%E6%80%81%E8%A7%84%E5%88%92_%E6%9C%80%E5%B0%8F%E8%B7%AF%E5%BE%84%E5%92%8C.ipynb\" target=\"_parent\"><img src=\"https://colab.research.google.com/assets/colab-badge.svg\" alt=\"Open In Colab\"/></a>"
      ]
    },
    {
      "cell_type": "code",
      "execution_count": null,
      "metadata": {
        "colab": {
          "base_uri": "https://localhost:8080/",
          "height": 135
        },
        "id": "2_JvU-Fj8aqY",
        "outputId": "1458345b-7c90-4443-9c48-27c15aeafbf2"
      },
      "outputs": [
        {
          "output_type": "error",
          "ename": "SyntaxError",
          "evalue": "ignored",
          "traceback": [
            "\u001b[0;36m  File \u001b[0;32m\"<ipython-input-1-c8e5730ee74f>\"\u001b[0;36m, line \u001b[0;32m4\u001b[0m\n\u001b[0;31m    int fib(int N){}\u001b[0m\n\u001b[0m          ^\u001b[0m\n\u001b[0;31mSyntaxError\u001b[0m\u001b[0;31m:\u001b[0m invalid syntax\n"
          ]
        }
      ],
      "source": [
        "#带备忘录的递归解法\n",
        "#明确了问题，其实就已经把问题解决了一半。即然耗时的原因是重复计算，那么我们可以造一个「备忘录」，每次算出某个子问题的答案后别急着返回，先记到「备忘录」里再返回；每次遇到一个子问题先去「备忘录」里查一查，如果发现之前已经解决过这个问题了，直接把答案拿出来用，不要再耗时去计算了。\n",
        "#一般使用一个数组充当这个「备忘录」，当然你也可以使用哈希表（字典），思想都是一样的。\n",
        "int fib(int N){\n",
        "    //备忘录全初始化为0\n",
        "    int[] memo = new int[N + 1];\n",
        "    //进行带备忘录的递归\n",
        "    return helper(memo,N);\n",
        "}\n",
        "\n",
        "int helper(int[] memo,int n){\n",
        "    //base case\n",
        "    if(n == 0 || n == 1) return n;\n",
        "    //已经计算过，不用再计算\n",
        "    if(memo[n] != 0) return memo[n];\n",
        "    memo[n] = helper(memo, n -1) + helper(memo,n-2)\n",
        "    return memo[n];\n",
        "}"
      ]
    },
    {
      "cell_type": "code",
      "source": [
        "#函数签名\n",
        "int minPathSum(int[][] grid);"
      ],
      "metadata": {
        "id": "AVjRgCpH92Gh"
      },
      "execution_count": null,
      "outputs": []
    },
    {
      "cell_type": "markdown",
      "source": [
        "一般来说，让你在二维矩阵中求最优化问题（最大值或者最小值），肯定需要递归 + 备忘录，也就是动态规划技巧。"
      ],
      "metadata": {
        "id": "1zYCPy5uCFip"
      }
    },
    {
      "cell_type": "markdown",
      "source": [
        "我们想计算从起点 D 到达 B 的最小路径和，那你说怎么才能到达 B 呢？\n",
        "\n",
        "题目说了只能向右或者向下走，所以只有从 A 或者 C 走到 B。\n",
        "\n",
        "那么算法怎么知道从 A 走到 B 才能使路径和最小，而不是从 C 走到 B 呢？\n",
        "\n",
        "难道是因为位置 A 的元素大小是 1，位置 C 的元素是 2，1 小于 2，所以一定要从 A 走到 B 才能使路径和最小吗？\n",
        "\n",
        "其实不是的，真正的原因是，从 D 走到 A 的最小路径和是 6，而从 D 走到 C 的最小路径和是 8，6 小于 8，所以一定要从 A 走到 B 才能使路径和最小。\n",
        "\n",
        "换句话说，我们把「从 D 走到 B 的最小路径和」这个问题转化成了「从 D 走到 A 的最小路径和」和 「从 D 走到 C 的最小路径和」这两个问题。\n",
        "\n",
        "理解了上面的分析，这不就是状态转移方程吗？所以这个问题肯定会用到动态规划技巧来解决。\n",
        "\n",
        "比如我们定义如下一个 dp 函数"
      ],
      "metadata": {
        "id": "qdAjtc_nCKCZ"
      }
    },
    {
      "cell_type": "code",
      "source": [
        "int dp(int[][] grid, int i ,int j)"
      ],
      "metadata": {
        "id": "btnBCOvGCJQ8"
      },
      "execution_count": null,
      "outputs": []
    },
    {
      "cell_type": "markdown",
      "source": [
        "这个 dp 函数的定义如下：\n",
        "\n",
        "从左上角位置 (0, 0) 走到位置 (i, j) 的最小路径和为 dp(grid, i, j)。\n",
        "\n",
        "根据这个定义，我们想求的最小路径和就可以通过调用这个 dp 函数计算出来"
      ],
      "metadata": {
        "id": "pbJUi6mHCX0y"
      }
    },
    {
      "cell_type": "code",
      "source": [
        "int minPathSum(int[][] grid){\n",
        "    int m = grid.length;\n",
        "    int n = grid[0].length;\n",
        "    //计算从左上角走到右下角的最小路径和\n",
        "    return dp(m -1, n -1)\n",
        "}"
      ],
      "metadata": {
        "id": "vmAldBPyCaC_"
      },
      "execution_count": null,
      "outputs": []
    },
    {
      "cell_type": "markdown",
      "source": [
        "再根据刚才的分析，很容易发现，dp(grid, i, j) 的值取决于 dp(grid, i - 1, j) 和 dp(grid, i, j - 1) 返回的值。\n",
        "\n",
        "我们可以直接写代码了："
      ],
      "metadata": {
        "id": "f27vMWUtH8Sf"
      }
    },
    {
      "cell_type": "code",
      "source": [
        "int dp(int[][] grid, int i, int j){\n",
        "    //base case\n",
        "    if(i == 0 && j == 0){\n",
        "        return grid[0][0];\n",
        "    }\n",
        "    //如果索引出界，返回一个很大的值，\n",
        "    //保证取min的时候不会取到\n",
        "    if(i <0 || j < 0){\n",
        "        return Integer.MAX_VALUE;\n",
        "    }\n",
        "\n",
        "    //左边和上面的最小路径和加上grid[i][j]\n",
        "    //就是到达（i,j)的最小路径和\n",
        "    return Math.min(\n",
        "        dp(grid,i - 1,j),\n",
        "        dp(grid,i,j - 1)) + grid[i][j];\n",
        "    )\n",
        "}"
      ],
      "metadata": {
        "id": "24aNbHe_HzO4"
      },
      "execution_count": null,
      "outputs": []
    },
    {
      "cell_type": "markdown",
      "source": [
        "前文多次说过判断重叠子问题的技巧，首先抽象出上述代码的递归框架"
      ],
      "metadata": {
        "id": "GTrWueZyJguM"
      }
    },
    {
      "cell_type": "markdown",
      "source": [
        ""
      ],
      "metadata": {
        "id": "ygpmOCGLJgpl"
      }
    },
    {
      "cell_type": "code",
      "source": [
        "int dp(int i , int j){\n",
        "    dp(i - 1, j);//#1\n",
        "    dp(i,j - 1);//#2\n",
        "}"
      ],
      "metadata": {
        "id": "u_6ntsNvJeiD"
      },
      "execution_count": null,
      "outputs": []
    },
    {
      "cell_type": "markdown",
      "source": [
        "存在重叠子问题\n",
        "我们可以使用备忘录技巧进行优化\n"
      ],
      "metadata": {
        "id": "sEcz1ad_J5x8"
      }
    },
    {
      "cell_type": "code",
      "source": [
        "int minPathSum(int[][] grid){\n",
        "    int m = grid.length;\n",
        "    int n = grid[0].length;\n",
        "    //计算从左上角走到右下角的最小路径和\n",
        "    memo = new int[m][n];\n",
        "    for(int[] row:memo)\n",
        "      Arrays.fill(row, -1);\n",
        "\n",
        "    return dp(grid, m -1 , n - 1);\n",
        "\n",
        "\n",
        "int dp(int[][] grid, int i, int j){\n",
        "    //base case\n",
        "    if(i == 0 && j == 0){\n",
        "        return grid[0][0];\n",
        "    }\n",
        "    //如果索引出界，返回一个很大的值，\n",
        "    //保证取min的时候不会取到\n",
        "    if(i <0 || j < 0){\n",
        "        return Integer.MAX_VALUE;\n",
        "    }\n",
        "\n",
        "    //避免重复计算\n",
        "    if(memo[i][j] != -1){\n",
        "        return memo[i][j];\n",
        "    }\n",
        "    //左边和上面的最小路径和加上grid[i][j]\n",
        "    //就是到达（i,j)的最小路径和\n",
        "    return Math.min(\n",
        "        dp(grid,i - 1,j),\n",
        "        dp(grid,i,j - 1)) + grid[i][j];\n",
        "\n",
        "    return memo[i][j];\n",
        "    )\n",
        "}"
      ],
      "metadata": {
        "id": "ZA5T1K7RJ5QF"
      },
      "execution_count": null,
      "outputs": []
    }
  ]
}