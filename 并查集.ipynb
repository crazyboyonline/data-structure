{
  "nbformat": 4,
  "nbformat_minor": 0,
  "metadata": {
    "colab": {
      "name": "并查集.ipynb",
      "provenance": [],
      "authorship_tag": "ABX9TyPO3bhF93AIkNbvEo3MFbB/",
      "include_colab_link": true
    },
    "kernelspec": {
      "name": "python3",
      "display_name": "Python 3"
    },
    "language_info": {
      "name": "python"
    }
  },
  "cells": [
    {
      "cell_type": "markdown",
      "metadata": {
        "id": "view-in-github",
        "colab_type": "text"
      },
      "source": [
        "<a href=\"https://colab.research.google.com/github/crazyboyonline/data-structure/blob/main/%E5%B9%B6%E6%9F%A5%E9%9B%86.ipynb\" target=\"_parent\"><img src=\"https://colab.research.google.com/assets/colab-badge.svg\" alt=\"Open In Colab\"/></a>"
      ]
    },
    {
      "cell_type": "markdown",
      "source": [
        "并查集是一种树形的数据结构，顾名思义，它用于处理一些不交集的 合并 及 查询 问题。 它支持两种操作：\n",
        "\n",
        "查找（Find）：确定某个元素处于哪个子集；\n",
        "合并（Union）：将两个子集合并成一个集合。"
      ],
      "metadata": {
        "id": "nBn8OkCOKv0A"
      }
    },
    {
      "cell_type": "code",
      "execution_count": null,
      "metadata": {
        "id": "9W5-RK6bKXuX"
      },
      "outputs": [],
      "source": [
        "//C++ Version\n",
        "void makeSet(int size){\n",
        "    for(int i =0; i<size; i++) fa[i] = i;//i就在它本身的集合\n",
        "    return;\n",
        "}"
      ]
    },
    {
      "cell_type": "code",
      "source": [
        "#Python Version\n",
        "def makeSet(size):\n",
        "  for i in range(0,size):\n",
        "    fa[i] = i\n",
        "  return"
      ],
      "metadata": {
        "id": "X8-u6sWHLI-u"
      },
      "execution_count": null,
      "outputs": []
    },
    {
      "cell_type": "markdown",
      "source": [
        "通俗地讲一个故事：几个家族进行宴会，但是家族普遍长寿，所以人数众多。由于长时间的分离以及年龄的增长，这些人逐渐忘掉了自己的亲人，只记得自己的爸爸是谁了，而最长者（称为「祖先」）的父亲已经去世，他只知道自己是祖先。为了确定自己是哪个家族，他们想出了一个办法，只要问自己的爸爸是不是祖先，一层一层的向上问，直到问到祖先。如果要判断两人是否在同一家族，只要看两人的祖先是不是同一人就可以了。\n",
        "\n",
        "在这样的思想下，并查集的查找算法诞生了。"
      ],
      "metadata": {
        "id": "At3MqeZ7LbxN"
      }
    },
    {
      "cell_type": "code",
      "source": [
        "//C++ Version\n",
        "int fa[MAXN];//记录某个人的爸爸是谁，特别规定，祖先的爸爸是他自己\n",
        "\n",
        "//递归\n",
        "int find(int x){\n",
        "    //寻找x的祖先\n",
        "    if(fa[x] == x)//如果x是祖先则返回\n",
        "      return x;\n",
        "    else\n",
        "      return find(fa[x]);//如果不是x的爸爸问x的爷爷\n",
        "}\n",
        "\n",
        "//非递归\n",
        "int find(int x){\n",
        "    while(x != fa[x])//如果x不是祖先，就一直往上一辈找\n",
        "    {\n",
        "        x = fa[x];\n",
        "    }\n",
        "    return x;//如果x是祖先则返回\n",
        "}"
      ],
      "metadata": {
        "id": "TxCQ152FLfjW"
      },
      "execution_count": null,
      "outputs": []
    },
    {
      "cell_type": "code",
      "source": [
        "#python Version\n",
        "fa[0] * MAXN#记录某个人的爸爸是谁，特别规定，祖先的爸爸是他自己\n",
        "#递归\n",
        "def find(x):\n",
        "  #寻找x的祖先\n",
        "  if fa[x] == x:\n",
        "    return x#如果x是祖先则返回\n",
        "  else:\n",
        "    return find(fa[x])#如果不是则x的爸爸问x的爷爷\n",
        "\n",
        "#非递归\n",
        "def find(x):\n",
        "  while x != fa[x]:#如果x不是祖先，就一直往上一辈找找\n",
        "    x = fa[x]\n",
        "  return x#如果x是祖先则返回"
      ],
      "metadata": {
        "id": "F9wPVqDwTdhm"
      },
      "execution_count": null,
      "outputs": []
    },
    {
      "cell_type": "markdown",
      "source": [
        "这样的确可以达成目的，但是显然效率实在太低。为什么呢？因为我们使用了太多没用的信息，我的祖先是谁与我父亲是谁没什么关系，这样一层一层找太浪费时间，不如我直接当祖先的儿子，问一次就可以出结果了。甚至祖先是谁都无所谓，只要这个人可以代表我们家族就能得到想要的效果。把在路径上的每个节点都直接连接到根上，这就是路径压缩。"
      ],
      "metadata": {
        "id": "-VfXuefRfLM-"
      }
    },
    {
      "cell_type": "code",
      "source": [
        "//C++ Version\n",
        "int find(int x){\n",
        "    if(x != fa[x])//x不是自身的父亲，即x不是该集合的代表\n",
        "      fa[x] = find(fa[x]);//查找x的祖先直到找到代表，于是顺手路径压缩\n",
        "    return fa[x];\n",
        "}\n"
      ],
      "metadata": {
        "id": "DAXHPf4MfK0N"
      },
      "execution_count": null,
      "outputs": []
    },
    {
      "cell_type": "code",
      "source": [
        "#python Version\n",
        "def find(x):\n",
        "  if x != fa[x]: #x 不是自身的父亲，即x不是该集合的代表\n",
        "    fa[x] = find(fa[x])#查找x的祖先直到找到代表，于是顺手路径压缩\n",
        "  return fa[x]"
      ],
      "metadata": {
        "id": "hBWvIfYbf3xE"
      },
      "execution_count": null,
      "outputs": []
    },
    {
      "cell_type": "markdown",
      "source": [
        "合并\n",
        "宴会上，一个家族的祖先突然对另一个家族说：我们两个家族交情这么好，不如合成一家好了。另一个家族也欣然接受了。\n",
        "我们之前说过，并不在意祖先究竟是谁，所以只要其中一个祖先变成另一个祖先的儿子就可以了。"
      ],
      "metadata": {
        "id": "7ouQQEBugZu-"
      }
    },
    {
      "cell_type": "code",
      "source": [
        "//C++\n",
        "void unionSet(int x ,int y){\n",
        "    //x与y所在家族合并\n",
        "    x = find(x);\n",
        "    y = find(y);\n",
        "    fa[x] = y;//把x的祖先变成y的祖先的儿子\n",
        "}"
      ],
      "metadata": {
        "id": "4af2xsbVgZeZ"
      },
      "execution_count": null,
      "outputs": []
    },
    {
      "cell_type": "code",
      "source": [
        "#python\n",
        "def unionSet(x,y):\n",
        "  #x与y所在家族合并\n",
        "  x = find(x)\n",
        "  y = find(y)\n",
        "  fa[x] = y #把x的祖先变成y的祖先儿子\n",
        "  "
      ],
      "metadata": {
        "id": "Uxkk7lAShIxG"
      },
      "execution_count": null,
      "outputs": []
    },
    {
      "cell_type": "markdown",
      "source": [
        "启发式合并（按秩合并）\n",
        "一个祖先突然抖了个机灵：「你们家族人比较少，搬家到我们家族里比较方便，我们要是搬过去的话太费事了。」\n",
        "\n",
        "由于需要我们支持的只有集合的合并、查询操作，当我们需要将两个集合合二为一时，无论将哪一个集合连接到另一个集合的下面，都能得到正确的结果。但不同的连接方法存在时间复杂度的差异。具体来说，如果我们将一棵点数与深度都较小的集合树连接到一棵更大的集合树下，显然相比于另一种连接方案，接下来执行查找操作的用时更小（也会带来更优的最坏时间复杂度）。\n",
        "\n",
        "当然，我们不总能遇到恰好如上所述的集合————点数与深度都更小。鉴于点数与深度这两个特征都很容易维护，我们常常从中择一，作为估价函数。而无论选择哪一个，时间复杂度都为 ，具体的证明可参见 References 中引用的论文。\n",
        "\n",
        "\n",
        "如果只使用启发式合并，而不使用路径压缩，由于路径压缩单次合并可能造成大量修改，有时路径压缩并不适合使用。例如，在可持久化并查集、线段树分治 + 并查集中，一般使用只启发式合并的并查集。"
      ],
      "metadata": {
        "id": "5i1N9Lo0hmri"
      }
    },
    {
      "cell_type": "code",
      "source": [
        "//C++\n",
        "std::vector<int>size(N,1);//记录并初始化子树的大小为1\n",
        "\n",
        "void unionSet(int x, int y){\n",
        "    int xx == find(x), yy ==find(y);\n",
        "    if(xx == yy) return;\n",
        "    if(size[xx] > size[yy]) // 保证小的合到大\n",
        "      swap(xx,yy);\n",
        "    fa[xx] == yy;\n",
        "    size[yy] += size[xx];\n",
        "}"
      ],
      "metadata": {
        "colab": {
          "base_uri": "https://localhost:8080/",
          "height": 138
        },
        "id": "i91pSblLho9Q",
        "outputId": "7fcfb4d1-2925-46c4-f51d-e4d8f2645519"
      },
      "execution_count": 1,
      "outputs": [
        {
          "output_type": "error",
          "ename": "SyntaxError",
          "evalue": "ignored",
          "traceback": [
            "\u001b[0;36m  File \u001b[0;32m\"<ipython-input-1-edeb7ab4a0eb>\"\u001b[0;36m, line \u001b[0;32m1\u001b[0m\n\u001b[0;31m    (/C++)\u001b[0m\n\u001b[0m     ^\u001b[0m\n\u001b[0;31mSyntaxError\u001b[0m\u001b[0;31m:\u001b[0m invalid syntax\n"
          ]
        }
      ]
    },
    {
      "cell_type": "code",
      "source": [
        "# Python Version\n",
        "size = [1] * N # 记录并初始化子树的大小为 1\n",
        "def unionSet(x, y):\n",
        "    xx = find(x); yy = find(y)\n",
        "    if xx == yy:\n",
        "        return\n",
        "    if size[xx] > size[yy]: # 保证小的合到大的里\n",
        "        xx, yy = yy, xx\n",
        "    fa[xx] = yy\n",
        "    size[yy] = size[yy] + size[xx]"
      ],
      "metadata": {
        "id": "xWoNldGBiEe5"
      },
      "execution_count": null,
      "outputs": []
    }
  ]
}