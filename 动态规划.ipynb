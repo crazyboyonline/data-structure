{
  "nbformat": 4,
  "nbformat_minor": 0,
  "metadata": {
    "colab": {
      "name": "动态规划.ipynb",
      "provenance": [],
      "authorship_tag": "ABX9TyPbqyMsvlQ97z3HCasZa8GB",
      "include_colab_link": true
    },
    "kernelspec": {
      "name": "python3",
      "display_name": "Python 3"
    },
    "language_info": {
      "name": "python"
    }
  },
  "cells": [
    {
      "cell_type": "markdown",
      "metadata": {
        "id": "view-in-github",
        "colab_type": "text"
      },
      "source": [
        "<a href=\"https://colab.research.google.com/github/crazyboyonline/data-structure/blob/main/%E5%8A%A8%E6%80%81%E8%A7%84%E5%88%92.ipynb\" target=\"_parent\"><img src=\"https://colab.research.google.com/assets/colab-badge.svg\" alt=\"Open In Colab\"/></a>"
      ]
    },
    {
      "cell_type": "code",
      "execution_count": 1,
      "metadata": {
        "colab": {
          "base_uri": "https://localhost:8080/",
          "height": 135
        },
        "id": "2_JvU-Fj8aqY",
        "outputId": "1458345b-7c90-4443-9c48-27c15aeafbf2"
      },
      "outputs": [
        {
          "output_type": "error",
          "ename": "SyntaxError",
          "evalue": "ignored",
          "traceback": [
            "\u001b[0;36m  File \u001b[0;32m\"<ipython-input-1-c8e5730ee74f>\"\u001b[0;36m, line \u001b[0;32m4\u001b[0m\n\u001b[0;31m    int fib(int N){}\u001b[0m\n\u001b[0m          ^\u001b[0m\n\u001b[0;31mSyntaxError\u001b[0m\u001b[0;31m:\u001b[0m invalid syntax\n"
          ]
        }
      ],
      "source": [
        "#带备忘录的递归解法\n",
        "#明确了问题，其实就已经把问题解决了一半。即然耗时的原因是重复计算，那么我们可以造一个「备忘录」，每次算出某个子问题的答案后别急着返回，先记到「备忘录」里再返回；每次遇到一个子问题先去「备忘录」里查一查，如果发现之前已经解决过这个问题了，直接把答案拿出来用，不要再耗时去计算了。\n",
        "#一般使用一个数组充当这个「备忘录」，当然你也可以使用哈希表（字典），思想都是一样的。\n",
        "int fib(int N){\n",
        "    //备忘录全初始化为0\n",
        "    int[] memo = new int[N + 1];\n",
        "    //进行带备忘录的递归\n",
        "    return helper(memo,N);\n",
        "}\n",
        "\n",
        "int helper(int[] memo,int n){\n",
        "    //base case\n",
        "    if(n == 0 || n == 1) return n;\n",
        "    //已经计算过，不用再计算\n",
        "    if(memo[n] != 0) return memo[n];\n",
        "    memo[n] = helper(memo, n -1) + helper(memo,n-2)\n",
        "    return memo[n];\n",
        "}"
      ]
    },
    {
      "cell_type": "code",
      "source": [
        ""
      ],
      "metadata": {
        "id": "AVjRgCpH92Gh"
      },
      "execution_count": null,
      "outputs": []
    }
  ]
}