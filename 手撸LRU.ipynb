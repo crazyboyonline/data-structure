{
  "nbformat": 4,
  "nbformat_minor": 0,
  "metadata": {
    "colab": {
      "name": "手撸LRU.ipynb",
      "provenance": [],
      "authorship_tag": "ABX9TyPVL7jTV9LxFKAoRHQd3vya",
      "include_colab_link": true
    },
    "kernelspec": {
      "name": "python3",
      "display_name": "Python 3"
    },
    "language_info": {
      "name": "python"
    }
  },
  "cells": [
    {
      "cell_type": "markdown",
      "metadata": {
        "id": "view-in-github",
        "colab_type": "text"
      },
      "source": [
        "<a href=\"https://colab.research.google.com/github/crazyboyonline/data-structure/blob/main/%E6%89%8B%E6%92%B8LRU.ipynb\" target=\"_parent\"><img src=\"https://colab.research.google.com/assets/colab-badge.svg\" alt=\"Open In Colab\"/></a>"
      ]
    },
    {
      "cell_type": "code",
      "execution_count": null,
      "metadata": {
        "id": "YNrYEjgbaOLG"
      },
      "outputs": [],
      "source": [
        "#LinkHashmap\n",
        "class Node{\n",
        "    public int key ,val;\n",
        "    public Node next,prev;\n",
        "    public Node(int k, int v){\n",
        "        this.key = k;\n",
        "        this.val = v;\n",
        "    }\n",
        "}"
      ]
    },
    {
      "cell_type": "code",
      "source": [
        "#然后依靠我们的 Node 类型构建一个双链表，实现几个 LRU 算法必须的 API："
      ],
      "metadata": {
        "id": "KORcyQR6ayUo"
      },
      "execution_count": null,
      "outputs": []
    },
    {
      "cell_type": "code",
      "source": [
        "class DoubleList{\n",
        "    //head node\n",
        "    private Node head, tail;\n",
        "    //链表元素数\n",
        "    private int size;\n",
        "    public DoubleList(){\n",
        "        //初始化双向链表\n",
        "        head = new Node(0,0);\n",
        "        tail = new Node(0,0);\n",
        "        head.next = tail;\n",
        "        tail.prev = head;\n",
        "        size = 0;\n",
        "    }\n",
        "\n",
        "    //在链表尾部添加节点X，时间O（1）\n",
        "    public void addLast(Node x){\n",
        "        x.pre = tail.prev;\n",
        "        x.next = tail;\n",
        "        tail.prev.next = x;\n",
        "        tail.prev = x;\n",
        "        size ++;\n",
        "    }\n",
        "    //删除链表中X节点\n",
        "    //由于双链表且给的目标Node节点，时间O(1)\n",
        "    public void remove(Node x){\n",
        "        x.prev.next = x.next;\n",
        "        x.next.prev = x.prev;\n",
        "        size --;\n",
        "    }\n",
        "    //删除链表第一个节点，并返回该节点，时间O（1）\n",
        "    public Node removeFirst(){\n",
        "        if(head.next == tail)\n",
        "          return null;\n",
        "        Node first = head.next;\n",
        "        remove(first);\n",
        "        return first;\n",
        "\n",
        "    }\n",
        "    //返回链表长度，时间O(1)\n",
        "    public int size() { return size;}\n",
        "}"
      ],
      "metadata": {
        "id": "3d7SMW6Ba0OF"
      },
      "execution_count": null,
      "outputs": []
    },
    {
      "cell_type": "code",
      "source": [
        "#注意我们实现的双链表 API 只能从尾部插入，也就是说靠尾部的数据是最近使用的，靠头部的数据是最久为使用的。\n",
        "#有了双向链表的实现，我们只需要在 LRU 算法中把它和哈希表结合起来即可，先搭出代码框架：\n",
        "class LRUCache{\n",
        "    //key ->Node(key,val)\n",
        "    private HashMap<Integer, Node> map;\n",
        "    //Node(k1,v1)<->Node(k2,v2)\n",
        "    private DoubleList cache;\n",
        "    //最大容量\n",
        "    privte int cap;\n",
        "\n",
        "    public LRUCache(int capacity){\n",
        "      this.cap = capacity;\n",
        "      map = new HashMap<>();\n",
        "      cache = new DoubleList();\n",
        "    }\n",
        "}"
      ],
      "metadata": {
        "colab": {
          "base_uri": "https://localhost:8080/",
          "height": 135
        },
        "id": "cxH7jcsbgZrz",
        "outputId": "f15383a8-277a-440f-85a5-5729578e53e8"
      },
      "execution_count": 1,
      "outputs": [
        {
          "output_type": "error",
          "ename": "SyntaxError",
          "evalue": "ignored",
          "traceback": [
            "\u001b[0;36m  File \u001b[0;32m\"<ipython-input-1-71c167bcdf88>\"\u001b[0;36m, line \u001b[0;32m3\u001b[0m\n\u001b[0;31m    class LRUCache{\u001b[0m\n\u001b[0m                  ^\u001b[0m\n\u001b[0;31mSyntaxError\u001b[0m\u001b[0;31m:\u001b[0m invalid syntax\n"
          ]
        }
      ]
    },
    {
      "cell_type": "code",
      "source": [
        "/* 将某个 key 提升为最近使用的 */\n",
        "private void makeRecently(int key) {\n",
        "    Node x = map.get(key);\n",
        "    // 先从链表中删除这个节点\n",
        "    cache.remove(x);\n",
        "    // 重新插到队尾\n",
        "    cache.addLast(x);\n",
        "}\n",
        "\n",
        "/* 添加最近使用的元素 */\n",
        "private void addRecently(int key, int val) {\n",
        "    Node x = new Node(key, val);\n",
        "    // 链表尾部就是最近使用的元素\n",
        "    cache.addLast(x);\n",
        "    // 别忘了在 map 中添加 key 的映射\n",
        "    map.put(key, x);\n",
        "}\n",
        "\n",
        "/* 删除某一个 key */\n",
        "private void deleteKey(int key) {\n",
        "    Node x = map.get(key);\n",
        "    // 从链表中删除\n",
        "    cache.remove(x);\n",
        "    // 从 map 中删除\n",
        "    map.remove(key);\n",
        "}\n",
        "\n",
        "/* 删除最久未使用的元素 */\n",
        "private void removeLeastRecently() {\n",
        "    // 链表头部的第一个元素就是最久未使用的\n",
        "    Node deletedNode = cache.removeFirst();\n",
        "    // 同时别忘了从 map 中删除它的 key\n",
        "    int deletedKey = deletedNode.key;\n",
        "    map.remove(deletedKey);\n",
        "}\n"
      ],
      "metadata": {
        "id": "0BGU9flrl1ms"
      },
      "execution_count": null,
      "outputs": []
    },
    {
      "cell_type": "code",
      "source": [
        "public int get(int key){\n",
        "    if(!map.containsKey(key)){\n",
        "        return -1;\n",
        "    }\n",
        "    // data refresh recently use\n",
        "    makeRecently(key);\n",
        "    return map.get(key).val;\n",
        "}"
      ],
      "metadata": {
        "colab": {
          "base_uri": "https://localhost:8080/",
          "height": 135
        },
        "id": "m5nsHSp4mgZQ",
        "outputId": "92c9a35a-7759-416f-e671-0f4dbfaffcdd"
      },
      "execution_count": 2,
      "outputs": [
        {
          "output_type": "error",
          "ename": "SyntaxError",
          "evalue": "ignored",
          "traceback": [
            "\u001b[0;36m  File \u001b[0;32m\"<ipython-input-2-19845671efd9>\"\u001b[0;36m, line \u001b[0;32m1\u001b[0m\n\u001b[0;31m    public int get(int key){\u001b[0m\n\u001b[0m             ^\u001b[0m\n\u001b[0;31mSyntaxError\u001b[0m\u001b[0;31m:\u001b[0m invalid syntax\n"
          ]
        }
      ]
    },
    {
      "cell_type": "code",
      "source": [
        "#put\n",
        "public void put(int key,int val){\n",
        "    if(map.containKey(key)){\n",
        "        //删除旧的数据\n",
        "        deletekey(key);\n",
        "        addRecently(key,val);\n",
        "        return;\n",
        "    }\n",
        "    if(cap == cache.size()){\n",
        "        //delete long not use data\n",
        "    }\n",
        "    //添加为最近使用的元素\n",
        "    addRecently(key,val);\n",
        "}"
      ],
      "metadata": {
        "id": "UXaTyBTrmpeE"
      },
      "execution_count": null,
      "outputs": []
    },
    {
      "cell_type": "code",
      "source": [
        "#实现LRU\n",
        "class LRUCache {\n",
        "    int cap;\n",
        "    LinkedHashMap<Integer, Integer> cache = new LinkedHashMap<>();\n",
        "    public LRUCache(int capacity) { \n",
        "        this.cap = capacity;\n",
        "    }\n",
        "    \n",
        "    public int get(int key) {\n",
        "        if (!cache.containsKey(key)) {\n",
        "            return -1;\n",
        "        }\n",
        "        // 将 key 变为最近使用\n",
        "        makeRecently(key);\n",
        "        return cache.get(key);\n",
        "    }\n",
        "    \n",
        "    public void put(int key, int val) {\n",
        "        if (cache.containsKey(key)) {\n",
        "            // 修改 key 的值\n",
        "            cache.put(key, val);\n",
        "            // 将 key 变为最近使用\n",
        "            makeRecently(key);\n",
        "            return;\n",
        "        }\n",
        "        \n",
        "        if (cache.size() >= this.cap) {\n",
        "            // 链表头部就是最久未使用的 key\n",
        "            int oldestKey = cache.keySet().iterator().next();\n",
        "            cache.remove(oldestKey);\n",
        "        }\n",
        "        // 将新的 key 添加链表尾部\n",
        "        cache.put(key, val);\n",
        "    }\n",
        "    \n",
        "    private void makeRecently(int key) {\n",
        "        int val = cache.get(key);\n",
        "        // 删除 key，重新插入到队尾\n",
        "        cache.remove(key);\n",
        "        cache.put(key, val);\n",
        "    }\n",
        "}\n"
      ],
      "metadata": {
        "id": "gSHGbYRknzuK"
      },
      "execution_count": null,
      "outputs": []
    }
  ]
}